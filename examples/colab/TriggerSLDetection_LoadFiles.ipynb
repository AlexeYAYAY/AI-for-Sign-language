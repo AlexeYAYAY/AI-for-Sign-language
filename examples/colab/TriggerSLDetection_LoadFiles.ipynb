{
  "nbformat": 4,
  "nbformat_minor": 0,
  "metadata": {
    "colab": {
      "name": "TriggerSLDetection_LoadFiles.ipynb",
      "provenance": [],
      "collapsed_sections": [],
      "authorship_tag": "ABX9TyNZjCoUgbcpHRFGxNRcJFQ0",
      "include_colab_link": true
    },
    "kernelspec": {
      "name": "python3",
      "display_name": "Python 3"
    },
    "language_info": {
      "name": "python"
    }
  },
  "cells": [
    {
      "cell_type": "markdown",
      "metadata": {
        "id": "view-in-github",
        "colab_type": "text"
      },
      "source": [
        "<a href=\"https://colab.research.google.com/github/YAYAYru/AI-for-Sign-language/blob/master/examples/colab/TriggerSLDetection_LoadFiles.ipynb\" target=\"_parent\"><img src=\"https://colab.research.google.com/assets/colab-badge.svg\" alt=\"Open In Colab\"/></a>"
      ]
    },
    {
      "cell_type": "code",
      "metadata": {
        "colab": {
          "base_uri": "https://localhost:8080/"
        },
        "id": "3cqwlYsoIEjm",
        "outputId": "1e3bc1a3-3068-4ae4-a048-328e88299ce1"
      },
      "source": [
        "from google.colab import drive\n",
        "drive.mount('/content/drive') "
      ],
      "execution_count": 7,
      "outputs": [
        {
          "output_type": "stream",
          "text": [
            "Mounted at /content/drive\n"
          ],
          "name": "stdout"
        }
      ]
    },
    {
      "cell_type": "code",
      "metadata": {
        "colab": {
          "base_uri": "https://localhost:8080/"
        },
        "id": "95CYuFhXKWJH",
        "outputId": "efdf3618-9ac6-4afe-bb5e-f2d49aac7edc"
      },
      "source": [
        "% reset\n",
        "import os\n",
        "import numpy as np\n",
        "def mp_folder_exists(work_dir:str, folder_name:str):\n",
        "  numpy_dir = os.path.join(work_dir, folder_name)  \n",
        "  face_dir = os.path.join(numpy_dir, \"face\")\n",
        "  left_hand_dir = os.path.join(numpy_dir, \"left_hand\")\n",
        "  pose_dir = os.path.join(numpy_dir, \"pose\")\n",
        "  right_hand_dir = os.path.join(numpy_dir, \"right_hand\")\n",
        "  dirs = [face_dir, left_hand_dir, pose_dir, right_hand_dir]\n",
        "  numpy_files = os.listdir(numpy_dir)\n",
        "  keys = []\n",
        "  resolutions = []\n",
        "  if len(numpy_dir) == 0:\n",
        "      print(\"Папка Frames пустая\")\n",
        "  else:\n",
        "      for dir in dirs:\n",
        "          dir_name = dir.split(\"\\\\\")[-1]\n",
        "          if os.path.exists(dir):\n",
        "\n",
        "              print(f\"папка {dir_name} найдена\")\n",
        "              if len(os.listdir(dir)) == 0:\n",
        "                  print(f\"{dir_name} пустая \")\n",
        "                  dirs.remove(dir)\n",
        "              else:\n",
        "                  for file in os.listdir(dir):\n",
        "                      key_name = \"\"\n",
        "                      full_filename = file.split(\"_\")\n",
        "                      resolution = full_filename[1:3]\n",
        "                      key_name = \"_\".join(full_filename[3:]).split(\".\")[0]\n",
        "                      if key_name not in keys:\n",
        "                          keys.append(key_name)\n",
        "\n",
        "                          resolutions.append(resolution)\n",
        "          else:\n",
        "              print(f\"папка {dir_name} не найдена\")\n",
        "              dirs.remove(dir)\n",
        "  return keys,[face_dir,pose_dir,left_hand_dir,right_hand_dir],resolutions\n",
        "# ввод\n",
        "work_dir = \"/content/drive/MyDrive/lake_video/TestData_Trigger_SL_Detection\"\n",
        "folder_name = \"mp_data\"\n",
        "\n",
        "# функция\n",
        "keys1,dir_list1,resolutions1 = mp_folder_exists(work_dir, folder_name)\n",
        "\n",
        "# Вывод\n",
        "print(keys1[:5])\n",
        "print(dir_list1)\n",
        "print(resolutions1[:5])"
      ],
      "execution_count": 8,
      "outputs": [
        {
          "output_type": "stream",
          "text": [
            "Once deleted, variables cannot be recovered. Proceed (y/[n])? y\n",
            "папка /content/drive/MyDrive/lake_video/TestData_Trigger_SL_Detection/mp_data/face найдена\n",
            "папка /content/drive/MyDrive/lake_video/TestData_Trigger_SL_Detection/mp_data/left_hand найдена\n",
            "папка /content/drive/MyDrive/lake_video/TestData_Trigger_SL_Detection/mp_data/pose найдена\n",
            "папка /content/drive/MyDrive/lake_video/TestData_Trigger_SL_Detection/mp_data/right_hand найдена\n",
            "['1000173_3_1', '1000173_3_2', '1000177_3_1', '1000177_3_2', '1000205_3_1']\n",
            "['/content/drive/MyDrive/lake_video/TestData_Trigger_SL_Detection/mp_data/face', '/content/drive/MyDrive/lake_video/TestData_Trigger_SL_Detection/mp_data/pose', '/content/drive/MyDrive/lake_video/TestData_Trigger_SL_Detection/mp_data/left_hand', '/content/drive/MyDrive/lake_video/TestData_Trigger_SL_Detection/mp_data/right_hand']\n",
            "[['1920.0', '1080.0'], ['1920.0', '1080.0'], ['1920.0', '1080.0'], ['1920.0', '1080.0'], ['1920.0', '1080.0']]\n"
          ],
          "name": "stdout"
        }
      ]
    },
    {
      "cell_type": "code",
      "metadata": {
        "colab": {
          "base_uri": "https://localhost:8080/"
        },
        "id": "KD3wC-gwLhTF",
        "outputId": "a7b66dcf-08c1-4836-9a29-c203d612c4e1"
      },
      "source": [
        "%reset\n",
        "import os\n",
        "import numpy as np\n",
        "def get_mediapipe_models_from_filenpy(keys,dir_list):\n",
        "  face_dir,pose_dir,left_hand_dir,right_hand_dir = dir_list[0],dir_list[1],dir_list[2],dir_list[3]\n",
        "  file_dict = dict()\n",
        "  face = []\n",
        "  left = []\n",
        "  right = []\n",
        "  pose = []\n",
        "  # print(keys)\n",
        "  for key in keys:\n",
        "      # read face\n",
        "      for f in os.listdir(face_dir):\n",
        "          if key in f:\n",
        "              np_path = os.path.join(face_dir, f)\n",
        "              data = np.load(np_path)\n",
        "              face = data\n",
        "      # read pose\n",
        "      for f in os.listdir(pose_dir):\n",
        "          if key in f:\n",
        "              np_path = os.path.join(pose_dir, f)\n",
        "              data = np.load(np_path)\n",
        "              pose = data\n",
        "      # read l hand\n",
        "      for f in os.listdir(left_hand_dir):\n",
        "          if key in f:\n",
        "              np_path = os.path.join(left_hand_dir, f)\n",
        "              data = np.load(np_path)\n",
        "              left = data\n",
        "      # read r hand\n",
        "      for f in os.listdir(right_hand_dir):\n",
        "          if key in f:\n",
        "              np_path = os.path.join(right_hand_dir, f)\n",
        "              data = np.load(np_path)\n",
        "              right = data\n",
        "      file_dict[key] = [face, pose, left, right]\n",
        "  return file_dict"
      ],
      "execution_count": 9,
      "outputs": [
        {
          "output_type": "stream",
          "text": [
            "Once deleted, variables cannot be recovered. Proceed (y/[n])? y\n"
          ],
          "name": "stdout"
        }
      ]
    },
    {
      "cell_type": "code",
      "metadata": {
        "colab": {
          "base_uri": "https://localhost:8080/"
        },
        "id": "UaIMbqYBLevX",
        "outputId": "8047226c-8c5d-487b-c354-dca99f1285ad"
      },
      "source": [
        "# ввод\n",
        "keys2 = ['1000173_3_1', '1000173_3_2', '1000177_3_1', '1000177_3_2', '1000205_3_1']\n",
        "dir_list2 = ['/content/drive/MyDrive/lake_video/TestData_Trigger_SL_Detection/mp_data/face', '/content/drive/MyDrive/lake_video/TestData_Trigger_SL_Detection/mp_data/pose', '/content/drive/MyDrive/lake_video/TestData_Trigger_SL_Detection/mp_data/left_hand', '/content/drive/MyDrive/lake_video/TestData_Trigger_SL_Detection/mp_data/right_hand']\n",
        "\n",
        "# функция\n",
        "file_dict1 = get_mediapipe_models_from_filenpy(keys2,dir_list2)\n",
        "\n",
        "# вывод: (временные ряды, x и y, количество точек)\n",
        "print(\"face\", file_dict1[keys2[0]][0].shape)\n",
        "print(\"pose\", file_dict1[keys2[0]][1].shape)\n",
        "print(\"left\", file_dict1[keys2[0]][2].shape)\n",
        "print(\"right\", file_dict1[keys2[0]][3].shape)\n",
        "\n",
        "type(file_dict1[keys2[0]][3][0,0,0])"
      ],
      "execution_count": 10,
      "outputs": [
        {
          "output_type": "stream",
          "text": [
            "face (121, 2, 468)\n",
            "pose (121, 2, 33)\n",
            "left (121, 2, 21)\n",
            "right (121, 2, 21)\n"
          ],
          "name": "stdout"
        },
        {
          "output_type": "execute_result",
          "data": {
            "text/plain": [
              "numpy.float64"
            ]
          },
          "metadata": {
            "tags": []
          },
          "execution_count": 10
        }
      ]
    },
    {
      "cell_type": "code",
      "metadata": {
        "colab": {
          "base_uri": "https://localhost:8080/"
        },
        "id": "oW_DfJ1VNayg",
        "outputId": "55cc4734-328d-44f9-96cb-a552cb6b4142"
      },
      "source": [
        "%reset\n",
        "import os\n",
        "import json\n",
        "\n",
        "def read_json(json_filepath):\n",
        "        with open(json_filepath) as json_file:\n",
        "            json_object = json.load(json_file)\n",
        "        return json_object\n",
        "\n",
        "def get_frameRange(jsonF,name):\n",
        "  framerange_dict = {}\n",
        "  beginM = {}\n",
        "  endM = {}\n",
        "  k = jsonF[\"tags\"]\n",
        "  for j in k:\n",
        "    if j[\"name\"] == \"EndMovement\":\n",
        "       endM[\"end\"] = j[\"frameRange\"]\n",
        "    if j[\"name\"] == \"BeginMovement\":\n",
        "       beginM[\"start\"] = j[\"frameRange\"]\n",
        "  framerange_dict[name] = [beginM,endM]\n",
        "  return framerange_dict\n",
        "\n",
        "def JsonParser(path):\n",
        "  RangeList = []\n",
        "  for f in os.listdir(path):\n",
        "    # print(f)\n",
        "    jsonF = read_json(f\"{path}/{f}\")\n",
        "    RangeList.append(get_frameRange(jsonF,f.replace(\".mp4.json\",\"\")))\n",
        "  return RangeList\n",
        "\n",
        "# Ввод и функция\n",
        "RangeList = JsonParser(\"/content/drive/MyDrive/lake_video/TestData_Trigger_SL_Detection/WeaklyLabeledMovement/Alexey50_done/ann\")\n",
        "# Вывод\n",
        "print(RangeList[:5])\n",
        "\n",
        "print(RangeList[1]['4282_3_2'])\n",
        "print(RangeList[1]['4282_3_2'][0]['start'][0])\n",
        "print(RangeList[1]['4282_3_2'][0]['start'][1])\n",
        "print(RangeList[1]['4282_3_2'][1]['end'][0])\n",
        "print(RangeList[1]['4282_3_2'][1]['end'][1])"
      ],
      "execution_count": null,
      "outputs": [
        {
          "output_type": "stream",
          "text": [
            "Once deleted, variables cannot be recovered. Proceed (y/[n])? y\n",
            "[{'4265_3_2': [{'start': [6, 20]}, {'end': [52, 68]}]}, {'4282_3_2': [{'start': [16, 26]}, {'end': [55, 68]}]}, {'4411_3_1': [{'start': [26, 34]}, {'end': [70, 78]}]}, {'4282_3_1': [{'start': [18, 27]}, {'end': [55, 67]}]}, {'4425_3_1': [{'start': [25, 36]}, {'end': [60, 75]}]}]\n",
            "[{'start': [16, 26]}, {'end': [55, 68]}]\n",
            "16\n",
            "26\n",
            "55\n",
            "68\n"
          ],
          "name": "stdout"
        }
      ]
    },
    {
      "cell_type": "code",
      "metadata": {
        "id": "a6Jhj6VfP3-q"
      },
      "source": [
        ""
      ],
      "execution_count": null,
      "outputs": []
    },
    {
      "cell_type": "code",
      "metadata": {
        "colab": {
          "base_uri": "https://localhost:8080/"
        },
        "id": "Jb2HYxq9Tm8_",
        "outputId": "0982a140-bace-49ee-b7a9-a7d23b6ab3fb"
      },
      "source": [
        "def get_frames_with_model(file_dict, dir_list2,model_type=1):\n",
        "  \"\"\"\n",
        "  model_type=0 - face; model_type=1 - pose; model_type=2 - left hand; model_type=3 - right hand; \n",
        "  \"\"\"\n",
        "  model_frames_X=[]\n",
        "  model_frames_Y=[]\n",
        "  for filename in filenames[:1]:\n",
        "      frames_sum = file_dict[filename][0].shape[0]\n",
        "      types = len(file_dict[filename])# face, pose, left, right\n",
        "      for i in range(frames_sum):\n",
        "          X = file_dict[filename][model_type][i][0]\n",
        "          Y = file_dict[filename][model_type][i][1]\n",
        "          model_frames_X.append(-X)\n",
        "          model_frames_Y.append(-Y)\n",
        "  model_frames_X = np.array(model_frames_X)\n",
        "  model_frames_Y = np.array(model_frames_Y)\n",
        "  model_frames_X = np.expand_dims(model_frames_X,axis=2)\n",
        "  model_frames_Y = np.expand_dims(model_frames_Y,axis=2)\n",
        "  XY = np.concatenate((model_frames_X, model_frames_Y), axis=2)\n",
        "\n",
        "  return XY\n",
        "\n",
        "# ввод\n",
        "filenames = ['1000173_3_1', '1000173_3_2', '1000177_3_1', '1000177_3_2', '1000205_3_1']\n",
        "dir_list2 = ['/content/drive/MyDrive/lake_video/TestData_Trigger_SL_Detection/mp_data/face', '/content/drive/MyDrive/lake_video/TestData_Trigger_SL_Detection/mp_data/pose', '/content/drive/MyDrive/lake_video/TestData_Trigger_SL_Detection/mp_data/left_hand', '/content/drive/MyDrive/lake_video/TestData_Trigger_SL_Detection/mp_data/right_hand']\n",
        "# функция\n",
        "file_dict = get_mediapipe_models_from_filenpy(filenames,dir_list2)\n",
        "\n",
        "print(\"face shape\",get_frames_with_model(file_dict, dir_list2, 0).shape)\n",
        "print(\"pose shape\",get_frames_with_model(file_dict, dir_list2, 1).shape)\n",
        "print(\"left shape\",get_frames_with_model(file_dict, dir_list2, 2).shape)\n",
        "print(\"right shape\",get_frames_with_model(file_dict, dir_list2, 3).shape)\n",
        "\n",
        "face_from_file = get_frames_with_model(file_dict, dir_list2, 0)\n",
        "pose_from_file = get_frames_with_model(file_dict, dir_list2, 1)\n",
        "left_from_file = get_frames_with_model(file_dict, dir_list2, 2)\n",
        "right_from_file = get_frames_with_model(file_dict, dir_list2, 3)"
      ],
      "execution_count": 37,
      "outputs": [
        {
          "output_type": "stream",
          "text": [
            "face shape (121, 468, 2)\n",
            "pose shape (121, 33, 2)\n",
            "left shape (121, 21, 2)\n",
            "right shape (121, 21, 2)\n"
          ],
          "name": "stdout"
        }
      ]
    },
    {
      "cell_type": "code",
      "metadata": {
        "colab": {
          "base_uri": "https://localhost:8080/",
          "height": 388
        },
        "id": "c7eXmGdax9IU",
        "outputId": "c8d969cd-503d-4cbd-c2ba-3993d04b1f5a"
      },
      "source": [
        "import numpy as np\n",
        "import matplotlib.pyplot as plt\n",
        "\n",
        "def plot_series(time, series, format=\"-\", start=0, end=None, label=None):\n",
        "    plt.plot(time[start:end], series[start:end], format, label=label)\n",
        "    plt.xlabel(\"Time\")\n",
        "    plt.ylabel(\"Value\")\n",
        "    if label:\n",
        "        plt.legend(fontsize=14)\n",
        "    plt.grid(True)\n",
        "\n",
        "plt.figure(figsize=(10, 6))\n",
        "\n",
        "plot_series(range(pose_from_file.shape[0]), pose_from_file[:,15], \"-\")\n",
        "plt.show()"
      ],
      "execution_count": 38,
      "outputs": [
        {
          "output_type": "display_data",
          "data": {
            "image/png": "[encoded data removed]",
            "text/plain": [
              "<Figure size 720x432 with 1 Axes>"
            ]
          },
          "metadata": {
            "tags": [],
            "needs_background": "light"
          }
        }
      ]
    },
    {
      "cell_type": "markdown",
      "metadata": {
        "id": "OZ7XVYHeKGe0"
      },
      "source": [
        "## Функция отображения визуальных выходных данных с помощью Matplotlib. И ввода входных данных - координатные данные скелетных моделей лица, позы и рук."
      ]
    },
    {
      "cell_type": "code",
      "metadata": {
        "colab": {
          "base_uri": "https://localhost:8080/",
          "height": 388
        },
        "id": "X1E3SkngF-SA",
        "outputId": "a0cc83bf-bc03-473c-ffb4-481bc098ac86"
      },
      "source": [
        "plt.figure(figsize=(10, 6))\n",
        "fi=40\n",
        "plot_series(face_from_file[fi,:,0], face_from_file[fi,:,1], \"o\")\n",
        "plot_series(pose_from_file[fi,:,0], pose_from_file[fi,:,1], \"o\")\n",
        "plot_series(left_from_file[fi,:,0], left_from_file[fi,:,1], \"o\")\n",
        "plot_series(right_from_file[fi,:,0], right_from_file[fi,:,1], \"o\")\n",
        "plt.show()"
      ],
      "execution_count": 39,
      "outputs": [
        {
          "output_type": "display_data",
          "data": {
            "image/png": "[encoded data removed]",
            "text/plain": [
              "<Figure size 720x432 with 1 Axes>"
            ]
          },
          "metadata": {
            "tags": [],
            "needs_background": "light"
          }
        }
      ]
    },
    {
      "cell_type": "code",
      "metadata": {
        "colab": {
          "base_uri": "https://localhost:8080/"
        },
        "id": "UhTjSgYuhQK8",
        "outputId": "423a35de-ffdd-43b0-8a55-ada94c6d7732"
      },
      "source": [
        "%reset\n",
        "import numpy as np\n",
        "\n",
        "x = np.array([[1,2,3],[4,5,6]])\n",
        "y = np.array([[7,8,9],[10,11,12]])\n",
        "x = np.expand_dims(x,axis=2)\n",
        "y = np.expand_dims(y,axis=2)\n",
        "xy = np.concatenate((x, y), axis=2)\n",
        "\n",
        "print(xy.shape)\n",
        "print(xy)"
      ],
      "execution_count": null,
      "outputs": [
        {
          "output_type": "stream",
          "text": [
            "Once deleted, variables cannot be recovered. Proceed (y/[n])? y\n",
            "(2, 3, 2)\n",
            "[[[ 1  7]\n",
            "  [ 2  8]\n",
            "  [ 3  9]]\n",
            "\n",
            " [[ 4 10]\n",
            "  [ 5 11]\n",
            "  [ 6 12]]]\n"
          ],
          "name": "stdout"
        }
      ]
    }
  ]
}