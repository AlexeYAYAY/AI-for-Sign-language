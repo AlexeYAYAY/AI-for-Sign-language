{
  "nbformat": 4,
  "nbformat_minor": 0,
  "metadata": {
    "colab": {
      "name": "OpenPose_json_folder_to_csv.ipynb",
      "provenance": [],
      "authorship_tag": "ABX9TyMTevu1+y3wgWOSNuy/fSp/",
      "include_colab_link": true
    },
    "kernelspec": {
      "name": "python3",
      "display_name": "Python 3"
    }
  },
  "cells": [
    {
      "cell_type": "markdown",
      "metadata": {
        "id": "view-in-github",
        "colab_type": "text"
      },
      "source": [
        "<a href=\"https://colab.research.google.com/github/YAYAYru/AI-for-Sign-language/blob/master/code/parser_openpose_json/OpenPose_json_folder_to_csv.ipynb\" target=\"_parent\"><img src=\"https://colab.research.google.com/assets/colab-badge.svg\" alt=\"Open In Colab\"/></a>"
      ]
    },
    {
      "cell_type": "code",
      "metadata": {
        "colab": {
          "base_uri": "https://localhost:8080/"
        },
        "id": "JLOUeaNZEd2w",
        "outputId": "4587a322-b23a-4dac-f995-2a0883771c35"
      },
      "source": [
        "from google.colab import drive\n",
        "drive.mount('/content/drive')"
      ],
      "execution_count": 8,
      "outputs": [
        {
          "output_type": "stream",
          "text": [
            "Mounted at /content/drive\n"
          ],
          "name": "stdout"
        }
      ]
    },
    {
      "cell_type": "code",
      "metadata": {
        "id": "rPFdJ1JqErsa"
      },
      "source": [
        "!ls ./drive/MyDrive/duke_labeledimage/yayay3674/"
      ],
      "execution_count": null,
      "outputs": []
    },
    {
      "cell_type": "code",
      "metadata": {
        "id": "-UT5JESw_sLN"
      },
      "source": [
        "import requests\n",
        "url = 'https://raw.githubusercontent.com/YAYAYru/Hand-shape-and-orientation-classification/main/code/parser_openpose_json/openposeparser.py?token=ALUZL3GYPLFXSJUISU527PLABVJKO'\n",
        "r = requests.get(url)\n",
        "with open('openposeparser.py', 'w') as f:\n",
        "    f.write(r.text)\n",
        "import openposeparser as opp"
      ],
      "execution_count": 12,
      "outputs": []
    },
    {
      "cell_type": "code",
      "metadata": {
        "colab": {
          "base_uri": "https://localhost:8080/"
        },
        "id": "bZlY6cpHCVQL",
        "outputId": "1a312e7a-d198-4981-85af-ef7bf5ff2fb7"
      },
      "source": [
        "a = opp.OpenPoseJsonParser()\n",
        "a.set_filename(\"./drive/MyDrive/duke_labeledimage/yayay3674/yayay3674_OpenPoseJson/s1a002_s1a00a_2_1_keypoints.json\")\n",
        "a.get_righthand_angles()"
      ],
      "execution_count": 17,
      "outputs": [
        {
          "output_type": "execute_result",
          "data": {
            "text/plain": [
              "[2.681341394909923,\n",
              " 2.4720174784558853,\n",
              " 2.1063178592672736,\n",
              " 2.6014180391483017,\n",
              " 3.0017342899371915,\n",
              " 3.0630640990543334,\n",
              " 3.1228370373833836,\n",
              " 0.46652411637425223,\n",
              " 2.7972997355040192,\n",
              " 2.4008437088027996,\n",
              " 0.19720280189849088,\n",
              " 2.6526577103422126,\n",
              " 2.5245790562395065,\n",
              " 3.1402726931929235,\n",
              " 3.0925129552014106]"
            ]
          },
          "metadata": {
            "tags": []
          },
          "execution_count": 17
        }
      ]
    },
    {
      "cell_type": "code",
      "metadata": {
        "colab": {
          "base_uri": "https://localhost:8080/"
        },
        "id": "Uzo3f6FWDiJa",
        "outputId": "64bb61a2-9bf0-4950-9bbc-da63fdc8bf11"
      },
      "source": [
        "folder1 = \"./drive/MyDrive/duke_labeledimage/yayay412/yayay412_OpenPoseJson/\"\n",
        "csv_path1 = \"./drive/MyDrive/duke_labeledimage/yayay412/yayay412_OpenPoseJson.csv\"\n",
        "a.json_folder_to_csv(folder1, csv_path1)"
      ],
      "execution_count": 19,
      "outputs": [
        {
          "output_type": "stream",
          "text": [
            "df1:                              falename   pose_x0  ...  righthand_y20  righthand_p20\n",
            "0    s1dc02_s10048_2_1_keypoints.json  1033.990  ...        2207.61       0.026829\n",
            "1    s1dc02_s10058_2_1_keypoints.json  1070.100  ...        2264.99       0.241412\n",
            "2    s1ea40_s1ea4a_2_1_keypoints.json  1026.880  ...        1935.81       0.236065\n",
            "3    s1ea42_s1ea48_2_1_keypoints.json  1026.870  ...        1840.00       0.411874\n",
            "4           s1ec2e_2_1_keypoints.json   948.275  ...           0.00       0.000000\n",
            "..                                ...       ...  ...            ...            ...\n",
            "407  s20351_s1c548_2_1_keypoints.json  1005.750  ...        1700.49       0.448187\n",
            "408  s20352_s1a029_2_1_keypoints.json  1005.080  ...        2162.83       0.772274\n",
            "409  s20352_s1a029_2_2_keypoints.json   983.604  ...        2265.95       0.815972\n",
            "410  s20352_s10e28_2_1_keypoints.json   997.744  ...        2010.82       0.832568\n",
            "411  s20352_s10e28_2_2_keypoints.json  1005.740  ...        2172.60       0.773936\n",
            "\n",
            "[412 rows x 412 columns]\n"
          ],
          "name": "stdout"
        }
      ]
    }
  ]
}